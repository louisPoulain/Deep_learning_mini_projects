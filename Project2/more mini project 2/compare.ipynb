{
 "cells": [
  {
   "cell_type": "code",
   "execution_count": 1,
   "metadata": {},
   "outputs": [],
   "source": [
    "import numpy as np\n",
    "import torch\n",
    "import torch.nn as nn\n",
    "from model import *\n",
    "import torch.nn.functional as F\n",
    "device = torch.device(\"cuda\" if torch.cuda.is_available() else \"cpu\")\n",
    "import time "
   ]
  },
  {
   "cell_type": "code",
   "execution_count": 2,
   "metadata": {},
   "outputs": [],
   "source": [
    "model_pickle = Model()\n",
    "model_pickle.load_pretrained_model()"
   ]
  },
  {
   "cell_type": "code",
   "execution_count": 3,
   "metadata": {},
   "outputs": [],
   "source": [
    "class Net(torch.nn.Module):\n",
    "    def __init__(self):\n",
    "        super().__init__()\n",
    "        self.c1 =nn.Conv2d(3,100,kernel_size=(3,3),stride=(2,2),padding=(1,1))\n",
    "        self.r1 = nn.ReLU()\n",
    "        self.c2= nn.Conv2d(100,100,kernel_size=(3,3),stride=(2,2),padding=(1,1))\n",
    "        self.r2 = nn.ReLU()\n",
    "        self.u1 = nn.Upsample(scale_factor=2,mode='nearest')\n",
    "        self.c3 =nn.Conv2d(100,100,kernel_size=(3,3),stride=(1,1),padding=(1,1))\n",
    "        self.r3 = nn.ReLU()\n",
    "        self.u2 = nn.Upsample(scale_factor=2,mode='nearest')\n",
    "        self.c4 = nn.Conv2d(100,3,kernel_size=(3,3),stride=(1,1),padding=(1,1))\n",
    "        self.s = nn.Sigmoid()\n",
    "\n",
    "\n",
    "    def forward(self, x):\n",
    "        x = self.c1(x)\n",
    "        x = self.r1(x)\n",
    "        x = self.c2(x)\n",
    "        x = self.r2(x)\n",
    "        x = self.u1(x)\n",
    "        x = self.c3(x)\n",
    "        x = self.r3(x)\n",
    "        x = self.u2(x)\n",
    "        x = self.c4(x)\n",
    "        x = self.s(x)\n",
    "        \n",
    "        return x\n",
    "\n",
    "class Dataset(torch.utils.data.Dataset): \n",
    "  'Characterizes a dataset without data augmentatio for PyTorch'\n",
    "  def __init__(self, train_input, train_target):\n",
    "        'Initialization'\n",
    "        x, y = train_input, train_target\n",
    "        if x.max() > 1: #if the data is not normalized, we devided the values by 255.\n",
    "            x, y = x / 255, y / 255\n",
    "        self.x = x.float()\n",
    "        self.y = y.float()\n",
    "\n",
    "  def __len__(self):\n",
    "        'Denotes the total number of samples'\n",
    "        return len(self.x)\n",
    "\n",
    "  def __getitem__(self, index):\n",
    "        'Generates one sample of data'\n",
    "        # get label\n",
    "        X_trans = self.x[index]\n",
    "        Y_trans= self.y[index]\n",
    "\n",
    "        return X_trans, Y_trans\n",
    "\n"
   ]
  },
  {
   "cell_type": "code",
   "execution_count": 7,
   "metadata": {},
   "outputs": [
    {
     "name": "stdout",
     "output_type": "stream",
     "text": [
      "epoch :  0\n"
     ]
    },
    {
     "ename": "KeyboardInterrupt",
     "evalue": "",
     "output_type": "error",
     "traceback": [
      "\u001b[0;31m---------------------------------------------------------------------------\u001b[0m",
      "\u001b[0;31mKeyboardInterrupt\u001b[0m                         Traceback (most recent call last)",
      "\u001b[1;32m/Users/Anya48/Documents/GitHub/Deep_learning_mini_projects/Project1/Proj_301545_295924_283802/Miniproject_2/compare.ipynb Cell 4'\u001b[0m in \u001b[0;36m<cell line: 15>\u001b[0;34m()\u001b[0m\n\u001b[1;32m     <a href='vscode-notebook-cell:/Users/Anya48/Documents/GitHub/Deep_learning_mini_projects/Project1/Proj_301545_295924_283802/Miniproject_2/compare.ipynb#ch0000004?line=24'>25</a>\u001b[0m     \u001b[39m# The gradients are set to zero,\u001b[39;00m\n\u001b[1;32m     <a href='vscode-notebook-cell:/Users/Anya48/Documents/GitHub/Deep_learning_mini_projects/Project1/Proj_301545_295924_283802/Miniproject_2/compare.ipynb#ch0000004?line=25'>26</a>\u001b[0m     \u001b[39m# the the gradient is computed and stored.\u001b[39;00m\n\u001b[1;32m     <a href='vscode-notebook-cell:/Users/Anya48/Documents/GitHub/Deep_learning_mini_projects/Project1/Proj_301545_295924_283802/Miniproject_2/compare.ipynb#ch0000004?line=26'>27</a>\u001b[0m     \u001b[39m# .step() performs parameter update\u001b[39;00m\n\u001b[1;32m     <a href='vscode-notebook-cell:/Users/Anya48/Documents/GitHub/Deep_learning_mini_projects/Project1/Proj_301545_295924_283802/Miniproject_2/compare.ipynb#ch0000004?line=27'>28</a>\u001b[0m     optimizer\u001b[39m.\u001b[39mzero_grad()\n\u001b[0;32m---> <a href='vscode-notebook-cell:/Users/Anya48/Documents/GitHub/Deep_learning_mini_projects/Project1/Proj_301545_295924_283802/Miniproject_2/compare.ipynb#ch0000004?line=28'>29</a>\u001b[0m     loss\u001b[39m.\u001b[39;49mbackward()\n\u001b[1;32m     <a href='vscode-notebook-cell:/Users/Anya48/Documents/GitHub/Deep_learning_mini_projects/Project1/Proj_301545_295924_283802/Miniproject_2/compare.ipynb#ch0000004?line=29'>30</a>\u001b[0m     optimizer\u001b[39m.\u001b[39mstep()\n\u001b[1;32m     <a href='vscode-notebook-cell:/Users/Anya48/Documents/GitHub/Deep_learning_mini_projects/Project1/Proj_301545_295924_283802/Miniproject_2/compare.ipynb#ch0000004?line=31'>32</a>\u001b[0m \u001b[39mif\u001b[39;00m time\u001b[39m.\u001b[39mtime() \u001b[39m-\u001b[39m time_start \u001b[39m>\u001b[39m \u001b[39m9\u001b[39m\u001b[39m*\u001b[39m\u001b[39m60\u001b[39m:\n",
      "File \u001b[0;32m~/opt/anaconda3/envs/pytorch/lib/python3.9/site-packages/torch/_tensor.py:307\u001b[0m, in \u001b[0;36mTensor.backward\u001b[0;34m(self, gradient, retain_graph, create_graph, inputs)\u001b[0m\n\u001b[1;32m    <a href='file:///Users/Anya48/opt/anaconda3/envs/pytorch/lib/python3.9/site-packages/torch/_tensor.py?line=297'>298</a>\u001b[0m \u001b[39mif\u001b[39;00m has_torch_function_unary(\u001b[39mself\u001b[39m):\n\u001b[1;32m    <a href='file:///Users/Anya48/opt/anaconda3/envs/pytorch/lib/python3.9/site-packages/torch/_tensor.py?line=298'>299</a>\u001b[0m     \u001b[39mreturn\u001b[39;00m handle_torch_function(\n\u001b[1;32m    <a href='file:///Users/Anya48/opt/anaconda3/envs/pytorch/lib/python3.9/site-packages/torch/_tensor.py?line=299'>300</a>\u001b[0m         Tensor\u001b[39m.\u001b[39mbackward,\n\u001b[1;32m    <a href='file:///Users/Anya48/opt/anaconda3/envs/pytorch/lib/python3.9/site-packages/torch/_tensor.py?line=300'>301</a>\u001b[0m         (\u001b[39mself\u001b[39m,),\n\u001b[0;32m   (...)\u001b[0m\n\u001b[1;32m    <a href='file:///Users/Anya48/opt/anaconda3/envs/pytorch/lib/python3.9/site-packages/torch/_tensor.py?line=304'>305</a>\u001b[0m         create_graph\u001b[39m=\u001b[39mcreate_graph,\n\u001b[1;32m    <a href='file:///Users/Anya48/opt/anaconda3/envs/pytorch/lib/python3.9/site-packages/torch/_tensor.py?line=305'>306</a>\u001b[0m         inputs\u001b[39m=\u001b[39minputs)\n\u001b[0;32m--> <a href='file:///Users/Anya48/opt/anaconda3/envs/pytorch/lib/python3.9/site-packages/torch/_tensor.py?line=306'>307</a>\u001b[0m torch\u001b[39m.\u001b[39;49mautograd\u001b[39m.\u001b[39;49mbackward(\u001b[39mself\u001b[39;49m, gradient, retain_graph, create_graph, inputs\u001b[39m=\u001b[39;49minputs)\n",
      "File \u001b[0;32m~/opt/anaconda3/envs/pytorch/lib/python3.9/site-packages/torch/autograd/__init__.py:154\u001b[0m, in \u001b[0;36mbackward\u001b[0;34m(tensors, grad_tensors, retain_graph, create_graph, grad_variables, inputs)\u001b[0m\n\u001b[1;32m    <a href='file:///Users/Anya48/opt/anaconda3/envs/pytorch/lib/python3.9/site-packages/torch/autograd/__init__.py?line=150'>151</a>\u001b[0m \u001b[39mif\u001b[39;00m retain_graph \u001b[39mis\u001b[39;00m \u001b[39mNone\u001b[39;00m:\n\u001b[1;32m    <a href='file:///Users/Anya48/opt/anaconda3/envs/pytorch/lib/python3.9/site-packages/torch/autograd/__init__.py?line=151'>152</a>\u001b[0m     retain_graph \u001b[39m=\u001b[39m create_graph\n\u001b[0;32m--> <a href='file:///Users/Anya48/opt/anaconda3/envs/pytorch/lib/python3.9/site-packages/torch/autograd/__init__.py?line=153'>154</a>\u001b[0m Variable\u001b[39m.\u001b[39;49m_execution_engine\u001b[39m.\u001b[39;49mrun_backward(\n\u001b[1;32m    <a href='file:///Users/Anya48/opt/anaconda3/envs/pytorch/lib/python3.9/site-packages/torch/autograd/__init__.py?line=154'>155</a>\u001b[0m     tensors, grad_tensors_, retain_graph, create_graph, inputs,\n\u001b[1;32m    <a href='file:///Users/Anya48/opt/anaconda3/envs/pytorch/lib/python3.9/site-packages/torch/autograd/__init__.py?line=155'>156</a>\u001b[0m     allow_unreachable\u001b[39m=\u001b[39;49m\u001b[39mTrue\u001b[39;49;00m, accumulate_grad\u001b[39m=\u001b[39;49m\u001b[39mTrue\u001b[39;49;00m)\n",
      "\u001b[0;31mKeyboardInterrupt\u001b[0m: "
     ]
    }
   ],
   "source": [
    "model = Net()\n",
    "criterion = torch.nn.MSELoss()\n",
    "optimizer = torch.optim.SGD(model.parameters(), lr=0.1) \n",
    "epochs = 1\n",
    "\n",
    "train_input, train_target = torch.load(\"/Users/Anya48/Documents/GitHub/Deep_learning_mini_projects/Project1/train_data.pkl\")\n",
    "BATCH_SIZE = 100\n",
    "train_set = Dataset(train_input, train_target) \n",
    "loader_1 = torch.utils.data.DataLoader(dataset = train_set,\n",
    "                                        batch_size = BATCH_SIZE,\n",
    "                                        shuffle = True)\n",
    "\n",
    "\n",
    "time_start = time.time()\n",
    "for epoch in range(epochs):\n",
    "    print(\"epoch : \", epoch)\n",
    "    for noisy_imgs_1, noisy_imgs_2 in loader_1:\n",
    "        noisy_imgs_1 = noisy_imgs_1.to(device)\n",
    "        noisy_imgs_2 = noisy_imgs_2.to(device)\n",
    "        reconstructed = model(noisy_imgs_1)\n",
    "            \n",
    "        # Calculating the loss function\n",
    "        loss = criterion(reconstructed, noisy_imgs_2)\n",
    "            \n",
    "        # The gradients are set to zero,\n",
    "        # the the gradient is computed and stored.\n",
    "        # .step() performs parameter update\n",
    "        optimizer.zero_grad()\n",
    "        loss.backward()\n",
    "        optimizer.step()\n",
    "\n",
    "    if time.time() - time_start > 9*60:\n",
    "        break\n",
    "\n",
    "PATH = \"model_compare.pth\"\n",
    "torch.save(model.state_dict(), PATH)\n",
    "  \n",
    "\n",
    "def validate(x,y_test,model):\n",
    "        a = model(x)\n",
    "        mse = torch.mean((a - y_test) ** 2)\n",
    "        return -10 * torch.log10(mse + 10**-8)"
   ]
  },
  {
   "cell_type": "code",
   "execution_count": 4,
   "metadata": {},
   "outputs": [],
   "source": [
    "import matplotlib.pyplot as plt \n",
    "\n",
    "def psnr(denoised, ground_truth):\n",
    "    # Peak Signal to Noise Ratio: denoised and ground ̇truth have range [0, 1] \n",
    "    mse = torch.mean((denoised - ground_truth) ** 2)\n",
    "    return -10 * torch.log10(mse + 10**-8)\n",
    "    \n",
    "class SSIM(nn.Module):\n",
    "    def __init__(self, max_val = 1.):\n",
    "        super(SSIM, self).__init__()\n",
    "        self.max_val = max_val\n",
    "        #window of size 7 x 7 \n",
    "        window = torch.tensor([[0.0013, 0.0041, 0.0079, 0.0099, 0.0079, 0.0041, 0.0013],\n",
    "        [0.0041, 0.0124, 0.0241, 0.0301, 0.0241, 0.0124, 0.0041],\n",
    "        [0.0079, 0.0241, 0.0470, 0.0587, 0.0470, 0.0241, 0.0079],\n",
    "        [0.0099, 0.0301, 0.0587, 0.0733, 0.0587, 0.0301, 0.0099],\n",
    "        [0.0079, 0.0241, 0.0470, 0.0587, 0.0470, 0.0241, 0.0079],\n",
    "        [0.0041, 0.0124, 0.0241, 0.0301, 0.0241, 0.0124, 0.0041],\n",
    "        [0.0013, 0.0041, 0.0079, 0.0099, 0.0079, 0.0041, 0.0013]])\n",
    "        self.kernel = window.repeat(3, 1, 1, 1) #repeat the window on the 3 channels\n",
    "\n",
    "        self.C1 = (0.01 * self.max_val) ** 2\n",
    "        self.C2 = (0.03 * self.max_val) ** 2\n",
    "\n",
    "    def forward(self, groundtruth, noisy_img): \n",
    "        kernel = self.kernel.to(groundtruth.device).to(noisy_img.dtype)\n",
    "        mu1 = F.conv2d(groundtruth, kernel, groups = 3)\n",
    "        mu2 = F.conv2d(noisy_img, kernel, groups = 3)\n",
    "\n",
    "        mu1_square = mu1.pow(2)\n",
    "        mu2_square = mu2.pow(2)\n",
    "        mu1_mu2 = mu1 * mu2\n",
    "\n",
    "        sigma1_square =  F.conv2d(groundtruth * groundtruth, kernel, groups = 3) - mu1_square\n",
    "        sigma2_square =  F.conv2d(noisy_img * noisy_img, kernel, groups = 3) - mu2_square\n",
    "        sigma12 =  F.conv2d(groundtruth * noisy_img, kernel, groups = 3) - mu1_mu2\n",
    "\n",
    "        ssim = ((2 * mu1_mu2 + self.C1)*(2 * sigma12 + self.C2)) / ((mu1_square + mu2_square + self.C1) * (sigma1_square + sigma2_square + self.C2))\n",
    "\n",
    "        loss = 1-ssim\n",
    "        loss = torch.mean(loss)\n",
    "\n",
    "        return loss\n",
    "\n",
    "\n",
    "def ssim(ground_truth, noisy_img, max_val = 1.):\n",
    "    return SSIM(max_val = max_val)(ground_truth , noisy_img)\n",
    "\n",
    "\n",
    "def compare_models(models, names = None, SIZE = 1000):\n",
    "    # Given a list PATHS of PATH (str) that leads to a model in the corresponding list models,\n",
    "    # display a noisy image, its ground truth and the denoised images and compute the PSNR over SIZE images of the test set.\n",
    "    BATCH_SIZE = 1\n",
    "    test_input, test_target = torch.load(\"/Users/Anya48/Documents/GitHub/Deep_learning_mini_projects/Project1/val_data.pkl\")\n",
    "    test_set = Dataset(test_input, test_target)\n",
    "    loader_1 = torch.utils.data.DataLoader(dataset = test_set,\n",
    "                                     batch_size = BATCH_SIZE,\n",
    "                                     shuffle = False)\n",
    "    #number of images to plot\n",
    "    N = (len(models) + 3)//2\n",
    "    plt.figure(figsize = (4 * N, 9))\n",
    "    rand_int = np.random.randint(low = 0, high = 1000)\n",
    "    print(\"random image to save : \", rand_int)\n",
    "    for j, model in enumerate(models):\n",
    "        PSNR = torch.empty(size = (1, SIZE))\n",
    "        SSIMs = torch.empty(size = (1, SIZE))\n",
    "        i = 0\n",
    "        for noisy_imgs, ground_truth in loader_1:\n",
    "            if j == 0: \n",
    "                denoised = model.predict(noisy_imgs*255)/255\n",
    "            else :\n",
    "                denoised = model(noisy_imgs).detach()\n",
    "            PSNR[0, i] = psnr(denoised, ground_truth)\n",
    "            SSIMs[0, i] = 1-ssim(ground_truth, denoised)\n",
    "            if i == rand_int :\n",
    "              denoised_plot = denoised\n",
    "              if j==0:\n",
    "                ground_truth_plot = ground_truth\n",
    "                noisyimg_plot = noisy_imgs\n",
    "            i += 1\n",
    "        meanPSNR = torch.mean(PSNR).item()\n",
    "        meanSSIM = torch.mean(SSIMs).item()\n",
    "        print(\"Model \", j, \" PSNR:\", meanPSNR) #display the mean of PSNR over the test set.\n",
    "        print(\"Model \", j, \" SSIM:\", meanSSIM)\n",
    "        if j%2 == 0:\n",
    "            plt.subplot(2, N, j//2 + 2)\n",
    "        else :\n",
    "            plt.subplot(2, N, j//2 + N + 2)\n",
    "        plt.imshow(torch.squeeze(denoised_plot).permute(1, 2, 0))\n",
    "        if names != None:\n",
    "            plt.title(names[j] + '\\nmean PSNR: ' + str(round(meanPSNR, 4))) # + '\\nmean SSIM: ' + str(round(meanSSIM, 4)))\n",
    "        else:\n",
    "            plt.title(\"model \" + str(j))\n",
    "    \n",
    "    plt.subplot(2, N, 1)\n",
    "    plt.imshow(torch.squeeze(noisyimg_plot).permute(1, 2, 0)) #int since the data has been changed to float for the NN.\n",
    "    plt.title(\"Noisy image\")\n",
    "    plt.subplot(2, N, N + 1)\n",
    "    plt.imshow(torch.squeeze(ground_truth_plot).permute(1, 2, 0))\n",
    "    plt.title(\"Groundtruth\")\n",
    "    plt.savefig('Comparison_' + str(len(models)) + '_models')\n",
    "    plt.show()"
   ]
  },
  {
   "cell_type": "code",
   "execution_count": 5,
   "metadata": {},
   "outputs": [],
   "source": [
    "PATH = \"model_compare.pth\"\n",
    "model = Net()\n",
    "model.load_state_dict(torch.load(PATH))\n",
    "\n",
    "models = [model_pickle, model]\n",
    "names = [\"Our implementation\", \"Pytorch implementation\"]"
   ]
  },
  {
   "cell_type": "code",
   "execution_count": 6,
   "metadata": {},
   "outputs": [
    {
     "name": "stdout",
     "output_type": "stream",
     "text": [
      "random image to save :  732\n",
      "Model  0  PSNR: 23.1589412689209\n",
      "Model  0  SSIM: 0.7391983270645142\n",
      "Model  1  PSNR: 22.975065231323242\n",
      "Model  1  SSIM: 0.7360546588897705\n"
     ]
    },
    {
     "data": {
      "image/png": "[encoded data removed]",
      "text/plain": [
       "<Figure size 576x648 with 4 Axes>"
      ]
     },
     "metadata": {
      "needs_background": "light"
     },
     "output_type": "display_data"
    }
   ],
   "source": [
    "compare_models(models, names)\n"
   ]
  },
  {
   "cell_type": "code",
   "execution_count": null,
   "metadata": {},
   "outputs": [],
   "source": []
  }
 ],
 "metadata": {
  "interpreter": {
   "hash": "6aa7871422cbf9296a09eca5272ae12f42feac121f15077f0682f5d4affb8114"
  },
  "kernelspec": {
   "display_name": "Python 3.9.10 ('pytorch')",
   "language": "python",
   "name": "python3"
  },
  "language_info": {
   "codemirror_mode": {
    "name": "ipython",
    "version": 3
   },
   "file_extension": ".py",
   "mimetype": "text/x-python",
   "name": "python",
   "nbconvert_exporter": "python",
   "pygments_lexer": "ipython3",
   "version": "3.9.10"
  },
  "orig_nbformat": 4
 },
 "nbformat": 4,
 "nbformat_minor": 2
}
